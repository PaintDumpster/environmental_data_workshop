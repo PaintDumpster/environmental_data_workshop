{
 "cells": [
  {
   "cell_type": "markdown",
   "metadata": {
    "id": "LMhWhaV2CdNr"
   },
   "source": [
    "# **Project Title**\n",
    "\n",
    "#### **Team Members**\n",
    "*Please include the names of your team members:*\n",
    "*   Michele cobelli\n",
    "*   Salvador \n",
    "*   Nihal ahmed m\n",
    "\n",
    "#### **Project description** *(max 150 words)*\n",
    "*Please include the following:*\n",
    "*   Where is the project situated?\n",
    "*   What is the research aim?\n",
    "*   What methods did you use?\n",
    "*   What KPI's did you extract and why?\n",
    "\n",
    "#### **Project Results**\n",
    "*(bullet points with key outcomes and learnings)*\n",
    "*   Outcomes\n",
    "*   Limitations\n",
    "*   Future Work\n",
    "\n",
    "\n",
    "\n",
    "\n",
    "\n",
    "\n",
    "\n"
   ]
  },
  {
   "cell_type": "markdown",
   "metadata": {
    "id": "FhofKBBegBJ3"
   },
   "source": [
    "**Dependencies**\n",
    "\n",
    "\n",
    "> Install required libraries\n",
    "\n"
   ]
  },
  {
   "cell_type": "code",
   "execution_count": null,
   "metadata": {
    "id": "6Dc6ajUskMej"
   },
   "outputs": [],
   "source": []
  },
  {
   "cell_type": "markdown",
   "metadata": {
    "id": "NAUNRsH2gczR"
   },
   "source": [
    "**Select Location**\n",
    "\n",
    "\n",
    "> Extract satellite images based on longitude, latitude and bbox\n",
    "\n",
    "\n"
   ]
  },
  {
   "cell_type": "code",
   "execution_count": null,
   "metadata": {
    "id": "VR9MKr2sjerQ"
   },
   "outputs": [],
   "source": []
  },
  {
   "cell_type": "markdown",
   "metadata": {
    "id": "qbnWLg7cwwLu"
   },
   "source": [
    "**Image Segmentation**\n",
    "\n",
    "\n",
    "> Select segmentation methods to extract features\n",
    "*(e.g. color/line/shape detection)*\n"
   ]
  },
  {
   "cell_type": "code",
   "execution_count": null,
   "metadata": {
    "id": "pntYU2kajfSo"
   },
   "outputs": [],
   "source": []
  },
  {
   "cell_type": "markdown",
   "metadata": {
    "id": "3YOK5hiUaKH8"
   },
   "source": [
    "**KPI's**\n",
    "\n",
    "\n",
    "> Use the extracted features to suggest urban resilience metrics in the form of graphs *(e.g. NDVI, green index, thermal index)*\n",
    "\n"
   ]
  },
  {
   "cell_type": "code",
   "execution_count": null,
   "metadata": {
    "id": "vuvkIp2Gj4o6"
   },
   "outputs": [],
   "source": []
  }
 ],
 "metadata": {
  "colab": {
   "provenance": []
  },
  "kernelspec": {
   "display_name": "Python 3",
   "name": "python3"
  },
  "language_info": {
   "name": "python"
  }
 },
 "nbformat": 4,
 "nbformat_minor": 0
}
